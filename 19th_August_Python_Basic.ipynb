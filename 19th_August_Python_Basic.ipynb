{
 "cells": [
  {
   "cell_type": "code",
   "execution_count": null,
   "id": "ddd22c89-4054-4faa-8220-fbbac9f612e2",
   "metadata": {},
   "outputs": [],
   "source": [
    "TOPIC: String Based Assignment Problem"
   ]
  },
  {
   "cell_type": "code",
   "execution_count": null,
   "id": "c034e4a8-5082-44d6-8f8c-0b7f1efd1f31",
   "metadata": {},
   "outputs": [],
   "source": [
    "1.Declare two variables, `x` and `y`, and assign them integer values. Swap the\n",
    "values of these variables without using any temporary variable."
   ]
  },
  {
   "cell_type": "code",
   "execution_count": 2,
   "id": "dca4800f-bf45-4a29-afdb-6cdae2bd31ea",
   "metadata": {},
   "outputs": [
    {
     "name": "stdout",
     "output_type": "stream",
     "text": [
      "before Swapping: x = 10  y = 5\n",
      "After Swapping: x = 5  y = 10\n"
     ]
    }
   ],
   "source": [
    "# assign x,y with integer values\n",
    "x = 10\n",
    "y = 5\n",
    "print(\"before Swapping: x =\", x, \" y =\", y)\n",
    "# Code to swap 'x' and 'y'\n",
    " \n",
    "# x now becomes 15\n",
    "x = x + y\n",
    " \n",
    "# y becomes 10\n",
    "y = x - y\n",
    " \n",
    "# x becomes 5\n",
    "x = x - y\n",
    "print(\"After Swapping: x =\", x, \" y =\", y)"
   ]
  },
  {
   "cell_type": "code",
   "execution_count": null,
   "id": "daa4a863-55e8-4bb2-bfc5-4398b3643fd0",
   "metadata": {},
   "outputs": [],
   "source": [
    "2. Create a program that calculates the area of a rectangle. Take the length and\n",
    "width as inputs from the user and store them in variables. Calculate and\n",
    "display the area."
   ]
  },
  {
   "cell_type": "code",
   "execution_count": 1,
   "id": "6511403d-12e9-49c1-a3df-97c17e281fa8",
   "metadata": {},
   "outputs": [
    {
     "name": "stdin",
     "output_type": "stream",
     "text": [
      "Please Enter the Length of a Rectangle:  1.5\n",
      "Please Enter the Width of a Rectangle:  2.5\n"
     ]
    },
    {
     "name": "stdout",
     "output_type": "stream",
     "text": [
      "The Area of a Rectangle using 1.5 and 2.5  =  3.75\n"
     ]
    }
   ],
   "source": [
    "# Python Program to find Area of a Rectangle using length and width\n",
    "\n",
    "length = float(input('Please Enter the Length of a Rectangle: '))\n",
    "width = float(input('Please Enter the Width of a Rectangle: '))\n",
    "\n",
    "# calculate the area\n",
    "area = length * width\n",
    "\n",
    "print(\"The Area of a Rectangle using\", length, \"and\", width, \" = \", area)\n"
   ]
  },
  {
   "cell_type": "code",
   "execution_count": null,
   "id": "fa6597c3-6739-4f1f-ae9c-ca7001948adf",
   "metadata": {},
   "outputs": [],
   "source": [
    "3. Write a Python program that converts temperatures from Celsius to\n",
    "Fahrenheit. Take the temperature in Celsius as input, store it in a variable,\n",
    "convert it to Fahrenheit, and display the result."
   ]
  },
  {
   "cell_type": "code",
   "execution_count": 6,
   "id": "342411e3-f133-4fae-84c6-b9a5fe79530b",
   "metadata": {},
   "outputs": [
    {
     "name": "stdin",
     "output_type": "stream",
     "text": [
      "Temperature value in degree Celsius:  3.5\n"
     ]
    },
    {
     "name": "stdout",
     "output_type": "stream",
     "text": [
      "3.5 degree Celsius is equal to: 38.3 Fahrenheit\n"
     ]
    }
   ],
   "source": [
    "Temp_C = float(input(\"Temperature value in degree Celsius: \" ))  \n",
    "# For Converting the temperature to degree Fahrenheit by using the above \n",
    "Temp_F = (Temp_C * 1.8) + 32\n",
    "print (Temp_C, \"degree Celsius is equal to:\" ,Temp_F, \"Fahrenheit\")"
   ]
  },
  {
   "cell_type": "code",
   "execution_count": null,
   "id": "3ca028c2-da4b-447d-8544-261438622d0f",
   "metadata": {},
   "outputs": [],
   "source": [
    "TOPIC: String Based Questions"
   ]
  },
  {
   "cell_type": "code",
   "execution_count": null,
   "id": "8691d84c-8cdc-4a1d-b566-4e51b316fbaa",
   "metadata": {},
   "outputs": [],
   "source": [
    "1. Write a Python program that takes a string as input and prints the length of the string."
   ]
  },
  {
   "cell_type": "code",
   "execution_count": 7,
   "id": "933340d0-95f4-44c9-b388-edf3ebcfa430",
   "metadata": {},
   "outputs": [
    {
     "name": "stdin",
     "output_type": "stream",
     "text": [
      "Please Enter the string:  I am abhijit\n"
     ]
    },
    {
     "name": "stdout",
     "output_type": "stream",
     "text": [
      "12\n"
     ]
    }
   ],
   "source": [
    "str = input('Please Enter the string: ')\n",
    "Length_str=len(str)\n",
    "print(Length_str)"
   ]
  },
  {
   "cell_type": "code",
   "execution_count": null,
   "id": "bf7207e9-b767-42fc-b86f-49a5806e9ec6",
   "metadata": {},
   "outputs": [],
   "source": [
    "2. Create a program that takes a sentence from the user and counts the number\n",
    "of vowels (a, e, i, o, u) in the string."
   ]
  },
  {
   "cell_type": "code",
   "execution_count": 54,
   "id": "88467b60-76a1-4a63-af76-61490f2ec18e",
   "metadata": {},
   "outputs": [
    {
     "name": "stdout",
     "output_type": "stream",
     "text": [
      "your sentence is:  I am Abhijit\n",
      "Number of vowel is : 5\n"
     ]
    }
   ],
   "source": [
    "\n",
    "sentence=\"I am Abhijit\"\n",
    "string = sentence.lower()\n",
    "print(\"your sentence is: \", sentence)\n",
    "# using findall() function to match pattern\n",
    "# Meta character '|' is used to depict 'either-or' sequence\n",
    "a = string.count(\"a\")\n",
    "e = string.count(\"e\")\n",
    "i = string.count(\"i\")\n",
    "o = string.count(\"o\")\n",
    "u = string.count(\"u\")\n",
    "vowel=a+e+i+o+u\n",
    "print(\"Number of vowel is :\",vowel)\n",
    "# count of number of vowels in the string\n",
    "# print(len(vowels))"
   ]
  },
  {
   "cell_type": "code",
   "execution_count": null,
   "id": "5d28479a-1623-48a4-9aad-d6d488b973fb",
   "metadata": {},
   "outputs": [],
   "source": [
    "3. Given a string, reverse the order of characters using string slicing and print the reversed string."
   ]
  },
  {
   "cell_type": "code",
   "execution_count": 42,
   "id": "904c6c54-38f2-48c5-9f8f-27f67b618d79",
   "metadata": {},
   "outputs": [
    {
     "name": "stdout",
     "output_type": "stream",
     "text": [
      "original string is : abhijit\n",
      "the reversed string is : tijihba\n"
     ]
    }
   ],
   "source": [
    "str =\"abhijit\"\n",
    "print(\"original string is :\",str)\n",
    "\n",
    "rev_str = (str[ : :-1])\n",
    "print(\"the reversed string is :\",rev_str)"
   ]
  },
  {
   "cell_type": "code",
   "execution_count": null,
   "id": "a6aa9035-3813-4400-b5c7-27982ab268a0",
   "metadata": {},
   "outputs": [],
   "source": [
    "4. Write a program that takes a string as input and checks if it is a palindrome\n",
    "(reads the same forwards and backwards)."
   ]
  },
  {
   "cell_type": "code",
   "execution_count": 45,
   "id": "aef422de-3deb-457e-9b90-3b0a2e310ccb",
   "metadata": {},
   "outputs": [
    {
     "name": "stdin",
     "output_type": "stream",
     "text": [
      "Please Enter the string:  eye\n"
     ]
    },
    {
     "name": "stdout",
     "output_type": "stream",
     "text": [
      "original string is : eye\n",
      "the reversed string is : eye\n",
      "Yes it is a palindrome\n"
     ]
    }
   ],
   "source": [
    "str =input('Please Enter the string: ')\n",
    "print(\"original string is :\",str)\n",
    "\n",
    "rev_str = (str[ : :-1])\n",
    "print(\"the reversed string is :\",rev_str)\n",
    "if str == rev_str:\n",
    "    print(\"Yes it is a palindrome\")\n",
    "else:\n",
    "    print(\"No it is not a palindrome\")"
   ]
  },
  {
   "cell_type": "code",
   "execution_count": null,
   "id": "5abee381-bef5-4b9c-a233-9c4b9e3d4511",
   "metadata": {},
   "outputs": [],
   "source": [
    "5. Create a program that takes a string as input and removes all the spaces from it. Print the modified string without spaces."
   ]
  },
  {
   "cell_type": "code",
   "execution_count": 50,
   "id": "ab247684-2d32-42fb-b74d-6cf2cd0ced5a",
   "metadata": {},
   "outputs": [
    {
     "name": "stdin",
     "output_type": "stream",
     "text": [
      "Please Enter the string:    asHK n as,x K\n"
     ]
    },
    {
     "name": "stdout",
     "output_type": "stream",
     "text": [
      "asHKnas,xK\n"
     ]
    }
   ],
   "source": [
    "str =input('Please Enter the string: ')\n",
    "modified_str=str.replace(\" \",\"\")\n",
    "print(modified_str)\n"
   ]
  },
  {
   "cell_type": "code",
   "execution_count": null,
   "id": "4512de52-a018-4ef2-b5c8-f6a864585a96",
   "metadata": {},
   "outputs": [],
   "source": []
  }
 ],
 "metadata": {
  "kernelspec": {
   "display_name": "Python 3 (ipykernel)",
   "language": "python",
   "name": "python3"
  },
  "language_info": {
   "codemirror_mode": {
    "name": "ipython",
    "version": 3
   },
   "file_extension": ".py",
   "mimetype": "text/x-python",
   "name": "python",
   "nbconvert_exporter": "python",
   "pygments_lexer": "ipython3",
   "version": "3.10.8"
  }
 },
 "nbformat": 4,
 "nbformat_minor": 5
}
